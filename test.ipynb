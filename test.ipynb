{
 "cells": [
  {
   "cell_type": "code",
   "execution_count": 5,
   "id": "a3031665",
   "metadata": {},
   "outputs": [
    {
     "output_type": "stream",
     "name": "stderr",
     "text": [
      "No traceback available to show.\n",
      "freq = 100.00, thresh = 0.05\n"
     ]
    },
    {
     "output_type": "display_data",
     "data": {
      "text/plain": "Canvas(toolbar=Toolbar(toolitems=[('Home', 'Reset original view', 'home', 'home'), ('Back', 'Back to previous …",
      "application/vnd.jupyter.widget-view+json": {
       "version_major": 2,
       "version_minor": 0,
       "model_id": "455f52ca26e64eb3aa596c10db0752be"
      }
     },
     "metadata": {}
    },
    {
     "output_type": "stream",
     "name": "stdout",
     "text": [
      "freq = 117.33, thresh = 0.05\n",
      "freq = 134.67, thresh = 0.05\n",
      "freq = 152.00, thresh = 0.05\n",
      "freq = 169.33, thresh = 0.05\n",
      "freq = 186.67, thresh = 0.05\n",
      "freq = 204.00, thresh = 0.05\n",
      "freq = 221.33, thresh = 0.05\n",
      "freq = 238.67, thresh = 0.05\n",
      "freq = 256.00, thresh = 0.05\n"
     ]
    }
   ],
   "source": [
    "%tb\n",
    "%matplotlib widget\n",
    "import ori_est\n",
    "import numpy as np \n",
    "import matplotlib.pyplot as plt \n",
    "\n",
    "ref_pos, ref_quat = ori_est.build_trajectory(freq=256, tau=0.05)\n",
    "\n",
    "F,T = 10, 10\n",
    "frequencies = np.linspace(100, 256, F)\n",
    "thresholds  = np.linspace(0.05, 0.1, T)\n",
    "errors = np.zeros((F, T))\n",
    "t = 0.05\n",
    "# for f in frequencies:\n",
    "for f in frequencies:\n",
    "        # f, t = 256, 0.05\n",
    "    print(\"freq = {:.2f}, thresh = {:.2f}\".format(f, t))\n",
    "    pos, quat = ori_est.build_trajectory(freq=f, tau=t)\n",
    "    errors = np.sum(np.sqrt((ref_pos-pos)**2), axis=1)\n",
    "    plt.plot(range(len(errors)), errors, label=r\"$\\omega$={:.3f}\".format(f))\n",
    "# plt.imshow(errors)\n",
    "plt.xlabel(\"time step\")\n",
    "plt.ylabel(\"RMS\")\n",
    "plt.title(\"Error in position from varying frequency\\nwith threshold 0.05 m/s^2\")\n",
    "plt.legend()\n",
    "# plt.colorbar()\n",
    "plt.show()"
   ]
  },
  {
   "cell_type": "code",
   "execution_count": 2,
   "id": "66bcdc11",
   "metadata": {},
   "outputs": [],
   "source": []
  },
  {
   "cell_type": "code",
   "execution_count": null,
   "metadata": {},
   "outputs": [],
   "source": []
  },
  {
   "cell_type": "code",
   "execution_count": 2,
   "metadata": {},
   "outputs": [
    {
     "output_type": "execute_result",
     "data": {
      "text/plain": [
       "array([7.28033614e-16, 3.44396043e-15, 6.77432696e-15, ...,\n",
       "       3.27152229e-01, 3.27152229e-01, 3.27152229e-01])"
      ]
     },
     "metadata": {},
     "execution_count": 2
    }
   ],
   "source": [
    "errors"
   ]
  },
  {
   "cell_type": "code",
   "execution_count": null,
   "metadata": {},
   "outputs": [],
   "source": []
  }
 ],
 "metadata": {
  "kernelspec": {
   "name": "python3",
   "display_name": "Python 3.9.5 64-bit ('PythonSoftwareFoundation.Python.3.9_qbz5n2kfra8p0')"
  },
  "language_info": {
   "codemirror_mode": {
    "name": "ipython",
    "version": 3
   },
   "file_extension": ".py",
   "mimetype": "text/x-python",
   "name": "python",
   "nbconvert_exporter": "python",
   "pygments_lexer": "ipython3",
   "version": "3.9.5"
  },
  "interpreter": {
   "hash": "8174ab6737f02b84cbe8f927e0ef1b7148bfc09bc72d59506093fe1f207a2e83"
  }
 },
 "nbformat": 4,
 "nbformat_minor": 5
}