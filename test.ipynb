{
 "cells": [
  {
   "cell_type": "code",
   "execution_count": 2,
   "id": "a3031665",
   "metadata": {},
   "outputs": [
    {
     "data": {
      "text/plain": [
       "['.git',\n",
       " '.ipynb_checkpoints',\n",
       " 'comparison.py',\n",
       " 'data',\n",
       " 'datasets',\n",
       " 'figures',\n",
       " 'image',\n",
       " 'positions_freq102.csv',\n",
       " 'positions_freq119.csv',\n",
       " 'positions_freq256.csv',\n",
       " 'quaternions_freq102.csv',\n",
       " 'quaternions_freq119.csv',\n",
       " 'quaternions_freq256.csv',\n",
       " 'README.html',\n",
       " 'README.md',\n",
       " 'requirements.txt',\n",
       " 'script.py',\n",
       " 'test.ipynb',\n",
       " 'tests.ps',\n",
       " 'tests.ps1',\n",
       " 'ximu_python_library']"
      ]
     },
     "execution_count": 2,
     "metadata": {},
     "output_type": "execute_result"
    }
   ],
   "source": [
    "import numpy\n",
    "import os"
   ]
  },
  {
   "cell_type": "code",
   "execution_count": 4,
   "id": "66bcdc11",
   "metadata": {},
   "outputs": [
    {
     "output_type": "stream",
     "name": "stderr",
     "text": [
      "usage: ipykernel_launcher.py [-h] [-a ALGORITHM] [-f FREQUENCY] [-s SCALING]\n                             [-t TAU]\nipykernel_launcher.py: error: unrecognized arguments: --ip=127.0.0.1 --stdin=9003 --control=9001 --hb=9000 --Session.signature_scheme=\"hmac-sha256\" --Session.key=b\"91dedf7c-f042-4137-8598-3cb5cb87a268\" --shell=9002 --transport=\"tcp\" --iopub=9004\n"
     ]
    },
    {
     "output_type": "error",
     "ename": "SystemExit",
     "evalue": "2",
     "traceback": [
      "An exception has occurred, use %tb to see the full traceback.\n",
      "\u001b[1;31mSystemExit\u001b[0m\u001b[1;31m:\u001b[0m 2\n"
     ]
    }
   ],
   "source": []
  },
  {
   "cell_type": "code",
   "execution_count": null,
   "metadata": {},
   "outputs": [],
   "source": []
  }
 ],
 "metadata": {
  "kernelspec": {
   "name": "python3",
   "display_name": "Python 3.9.5 64-bit ('PythonSoftwareFoundation.Python.3.9_qbz5n2kfra8p0')"
  },
  "language_info": {
   "codemirror_mode": {
    "name": "ipython",
    "version": 3
   },
   "file_extension": ".py",
   "mimetype": "text/x-python",
   "name": "python",
   "nbconvert_exporter": "python",
   "pygments_lexer": "ipython3",
   "version": "3.9.5"
  },
  "interpreter": {
   "hash": "8174ab6737f02b84cbe8f927e0ef1b7148bfc09bc72d59506093fe1f207a2e83"
  }
 },
 "nbformat": 4,
 "nbformat_minor": 5
}