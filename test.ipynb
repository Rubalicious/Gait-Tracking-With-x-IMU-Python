{
 "cells": [
  {
   "cell_type": "code",
   "execution_count": 7,
   "id": "a3031665",
   "metadata": {},
   "outputs": [
    {
     "output_type": "stream",
     "name": "stdout",
     "text": [
      "freq = 100.00, thresh = 0.05\n",
      "<ipython-input-7-62da7fbfd6b8>:25: RuntimeWarning: divide by zero encountered in log\n",
      "  plt.plot(range(len(errors)), np.log(errors), label=r\"$\\omega$={:.3f}\".format(f))\n"
     ]
    },
    {
     "output_type": "display_data",
     "data": {
      "text/plain": "Canvas(toolbar=Toolbar(toolitems=[('Home', 'Reset original view', 'home', 'home'), ('Back', 'Back to previous …",
      "application/vnd.jupyter.widget-view+json": {
       "version_major": 2,
       "version_minor": 0,
       "model_id": "ea6c3273020f40bc9fa356ac284ca537"
      }
     },
     "metadata": {}
    },
    {
     "output_type": "stream",
     "name": "stdout",
     "text": [
      "freq = 117.33, thresh = 0.05\n",
      "freq = 134.67, thresh = 0.05\n",
      "freq = 152.00, thresh = 0.05\n",
      "freq = 169.33, thresh = 0.05\n",
      "freq = 186.67, thresh = 0.05\n",
      "freq = 204.00, thresh = 0.05\n",
      "freq = 221.33, thresh = 0.05\n",
      "freq = 238.67, thresh = 0.05\n",
      "freq = 256.00, thresh = 0.05\n"
     ]
    }
   ],
   "source": [
    "%matplotlib widget\n",
    "import ori_est\n",
    "import numpy as np \n",
    "import matplotlib.pyplot as plt \n",
    "from scipy import signal\n",
    "\n",
    "ref_pos, ref_quat = ori_est.build_trajectory(freq=100, tau=0.05)\n",
    "\n",
    "F,T = 10, 10\n",
    "frequencies = np.linspace(100, 256, F)\n",
    "thresholds  = np.linspace(0.05, 0.1, T)\n",
    "errors = np.zeros((F, T))\n",
    "t = 0.05\n",
    "# for f in frequencies:\n",
    "# i=0\n",
    "for f in frequencies:\n",
    "    # j=0\n",
    "    # for t in thresholds:\n",
    "    # f, t = 256, 0.05\n",
    "    print(\"freq = {:.2f}, thresh = {:.2f}\".format(f, t))\n",
    "    pos, quat = ori_est.build_trajectory(freq=f, tau=t)\n",
    "    # resample the reference position\n",
    "    res_pos = signal.resample(ref_pos, len(pos))\n",
    "    errors = np.sum(np.sqrt((res_pos-pos)**2), axis=1)\n",
    "    plt.plot(range(len(errors)), np.log(errors), label=r\"$\\omega$={:.3f}\".format(f))\n",
    "        # j+=1\n",
    "    # i+=1\n",
    "# plt.imshow(errors)\n",
    "plt.plot(range(len(errors)), np.zeros( (len(errors)) ), '--')\n",
    "plt.xlabel(\"time step\")\n",
    "plt.ylabel(\"log RMS\")\n",
    "plt.title(\"log Error in position with varying frequency\\nusing threshold {:.3f} m/s^2\\nMadgwick alg used on stairs and corridor data\".format(t))\n",
    "plt.legend()\n",
    "# plt.colorbar()\n",
    "plt.show()"
   ]
  },
  {
   "cell_type": "code",
   "execution_count": 2,
   "id": "66bcdc11",
   "metadata": {},
   "outputs": [],
   "source": []
  },
  {
   "cell_type": "code",
   "execution_count": null,
   "metadata": {},
   "outputs": [],
   "source": []
  },
  {
   "cell_type": "code",
   "execution_count": 2,
   "metadata": {},
   "outputs": [
    {
     "output_type": "execute_result",
     "data": {
      "text/plain": [
       "array([[2.42066687e-11, 9.64650612e+02, 1.63763460e+04, 1.65378661e+04,\n",
       "        1.62118478e+04, 1.42973171e+04, 1.44187790e+04, 1.34469100e+04,\n",
       "        1.31872955e+04, 1.57972340e+04],\n",
       "       [1.26719757e+04, 1.56418588e+04, 1.91741306e+04, 1.69106057e+04,\n",
       "        1.69342602e+04, 1.69467444e+04, 1.65041305e+04, 1.67510206e+04,\n",
       "        1.68340114e+04, 1.76303642e+04],\n",
       "       [1.77601987e+04, 1.86628444e+04, 1.87898997e+04, 1.68931656e+04,\n",
       "        1.68694898e+04, 1.92788604e+04, 1.69105330e+04, 1.83825583e+04,\n",
       "        1.79628107e+04, 1.79699834e+04],\n",
       "       [1.97147292e+04, 1.93860177e+04, 1.78699190e+04, 1.54617162e+04,\n",
       "        1.83411786e+04, 1.83337614e+04, 1.80071477e+04, 1.79691257e+04,\n",
       "        1.79374329e+04, 1.79888149e+04],\n",
       "       [1.58879178e+04, 1.78989207e+04, 1.61219482e+04, 1.60532550e+04,\n",
       "        1.77267336e+04, 1.80675266e+04, 1.89536900e+04, 1.89297705e+04,\n",
       "        1.89153011e+04, 1.87993390e+04],\n",
       "       [1.98004464e+04, 1.61908423e+04, 1.85043736e+04, 1.89356993e+04,\n",
       "        1.89549116e+04, 1.98780160e+04, 1.98479004e+04, 1.94155998e+04,\n",
       "        1.93817104e+04, 1.93551772e+04],\n",
       "       [1.96400946e+04, 1.91500841e+04, 1.90961792e+04, 2.00446974e+04,\n",
       "        1.99882226e+04, 1.99878457e+04, 1.99479418e+04, 1.99166933e+04,\n",
       "        1.98934843e+04, 1.97940799e+04]])"
      ]
     },
     "metadata": {},
     "execution_count": 2
    }
   ],
   "source": [
    "errors"
   ]
  },
  {
   "cell_type": "code",
   "execution_count": null,
   "metadata": {},
   "outputs": [],
   "source": []
  }
 ],
 "metadata": {
  "kernelspec": {
   "name": "python3",
   "display_name": "Python 3.9.5 64-bit ('PythonSoftwareFoundation.Python.3.9_qbz5n2kfra8p0')"
  },
  "language_info": {
   "codemirror_mode": {
    "name": "ipython",
    "version": 3
   },
   "file_extension": ".py",
   "mimetype": "text/x-python",
   "name": "python",
   "nbconvert_exporter": "python",
   "pygments_lexer": "ipython3",
   "version": "3.9.5"
  },
  "interpreter": {
   "hash": "8174ab6737f02b84cbe8f927e0ef1b7148bfc09bc72d59506093fe1f207a2e83"
  }
 },
 "nbformat": 4,
 "nbformat_minor": 5
}