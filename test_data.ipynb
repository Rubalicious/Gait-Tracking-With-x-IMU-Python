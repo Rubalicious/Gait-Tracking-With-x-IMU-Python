{
 "metadata": {
  "language_info": {
   "codemirror_mode": {
    "name": "ipython",
    "version": 3
   },
   "file_extension": ".py",
   "mimetype": "text/x-python",
   "name": "python",
   "nbconvert_exporter": "python",
   "pygments_lexer": "ipython3",
   "version": "3.9.5"
  },
  "orig_nbformat": 4,
  "kernelspec": {
   "name": "python3",
   "display_name": "Python 3.9.5 64-bit ('PythonSoftwareFoundation.Python.3.9_qbz5n2kfra8p0')"
  },
  "interpreter": {
   "hash": "8174ab6737f02b84cbe8f927e0ef1b7148bfc09bc72d59506093fe1f207a2e83"
  }
 },
 "nbformat": 4,
 "nbformat_minor": 2,
 "cells": [
  {
   "source": [
    "This will be a processing pipe for data from the SensorTile.box into proper input for the Madgwick algorithm\n"
   ],
   "cell_type": "markdown",
   "metadata": {}
  },
  {
   "cell_type": "code",
   "execution_count": 61,
   "metadata": {},
   "outputs": [
    {
     "output_type": "stream",
     "name": "stdout",
     "text": [
      "dataset example_dataset5_CalInertialAndMag.csv has been created\n"
     ]
    }
   ],
   "source": [
    "import pandas as pd\n",
    "import numpy as np\n",
    "import os\n",
    "\n",
    "index = 5\n",
    "dir = \"./datasets/Data_Log{}/\".format(index)\n",
    "files = os.listdir(dir)\n",
    "\n",
    "# extract data and skip first three rows\n",
    "acc_data = pd.read_csv(dir+files[0], skiprows=3) # add skiprows=3 for proper file formatting\n",
    "gyr_data = pd.read_csv(dir+files[1], skiprows=3)\n",
    "mag_data = pd.read_csv(dir+files[2], skiprows=3)\n",
    "\n",
    "# extract only last three columns (X, Y, Z) of data \n",
    "acc_data = acc_data[acc_data.columns[-3:]]\n",
    "gyr_data = gyr_data[gyr_data.columns[-3:]]\n",
    "mag_data = mag_data[mag_data.columns[-3:]]\n",
    "\n",
    "# convert into correct units\n",
    "acc_data = acc_data/1000 # [mg] --> [g]\n",
    "\n",
    "# remove effect of gravity to last column only\n",
    "acc_data[acc_data.columns[-1]] -= 1\n",
    "\n",
    "gyr_data = gyr_data\n",
    "mag_data = mag_data/1000 # [mGa] --> [G]\n",
    "\n",
    "data = pd.concat([gyr_data, acc_data, mag_data], axis=1)\n",
    "data = np.round(data, 7)\n",
    "\n",
    "# data.columns\n",
    "\n",
    "header = [\"Gyroscope X (deg/s)\", \"Gyroscope Y (deg/s)\", \"Gyroscope Z (deg/s)\", \"Accelerometer X (g)\", \"Accelerometer Y (g)\", \"Accelerometer Z (g)\", \"Magnetometer X (G)\", \"Magnetometer Y (G)\", \"Magnetometer Z (G)\"]\n",
    "\n",
    "data = data[1:]\n",
    "data.columns = header\n",
    "data.to_csv(\"example_dataset{}_CalInertialAndMag.csv\".format(index))\n",
    "print(\"dataset example_dataset{}_CalInertialAndMag.csv has been created\".format(index))\n",
    "# data"
   ]
  },
  {
   "cell_type": "code",
   "execution_count": null,
   "metadata": {},
   "outputs": [],
   "source": []
  }
 ]
}